{
 "cells": [
  {
   "cell_type": "code",
   "execution_count": 1,
   "id": "85fc8a18",
   "metadata": {},
   "outputs": [],
   "source": [
    "import pandas as pd\n",
    "from math import fsum\n",
    "from sklearn.metrics import classification_report"
   ]
  },
  {
   "cell_type": "code",
   "execution_count": 2,
   "id": "29345b5d",
   "metadata": {},
   "outputs": [],
   "source": [
    "# We get all our predictions\n",
    "hatebert_in = pd.read_csv('data/hateBERT_indomain.csv')\n",
    "hatebert_cross = pd.read_csv('data/hateBERT_crossdomain.csv')\n",
    "\n",
    "bert_in = pd.read_csv('data/BERT_indomain.csv')\n",
    "bert_cross = pd.read_csv('data/BERT_crossdomain.csv')\n",
    "\n",
    "svm_in = pd.read_csv('data/SVM_indomain.csv').drop(['Unnamed: 0'], axis=1)\n",
    "svm_cross = pd.read_csv('data/SVM_crossdomain.csv').drop(['Unnamed: 0'], axis=1)\n",
    "\n",
    "# Dataframes to write results in\n",
    "test_indomain = pd.read_csv('data/olid-test.csv')\n",
    "test_crossdomain = pd.read_csv('data/olid-test.csv')"
   ]
  },
  {
   "cell_type": "code",
   "execution_count": 6,
   "id": "08e1aa04",
   "metadata": {},
   "outputs": [],
   "source": [
    "# We implement soft voting, the class with highest summed probability from each classifier is picked for each instance\n",
    "def soft_voting(df1, df2 ,df3):\n",
    "    ensemble_predictions = []\n",
    "    for p1, p2, p3,\\\n",
    "    pn1, pn2, pn3\\\n",
    "    in zip(df1.p_pos, df2.p_pos, df3.p_pos,\\\n",
    "          df1.p_neg, df2.p_neg, df3.p_neg):\n",
    "        if fsum([p1, p2, p3]) >= fsum([pn1, pn2, pn3]):\n",
    "            ensemble_predictions.append(1)\n",
    "        else:\n",
    "            ensemble_predictions.append(0)\n",
    "    return ensemble_predictions    "
   ]
  },
  {
   "cell_type": "code",
   "execution_count": 4,
   "id": "7808c3a4",
   "metadata": {},
   "outputs": [],
   "source": [
    "# we get results for both in domain and cross domain\n",
    "test_indomain['predictions'] = soft_voting(hatebert_in, bert_in, svm_in)\n",
    "\n",
    "test_crossdomain['predictions'] = soft_voting(hatebert_cross, bert_cross, svm_cross)"
   ]
  },
  {
   "cell_type": "code",
   "execution_count": 5,
   "id": "489133c9",
   "metadata": {},
   "outputs": [],
   "source": [
    "# Writing results to disk\n",
    "test_indomain.to_csv('data/SOFTVOTING_indomain.csv', index=False)\n",
    "\n",
    "test_crossdomain.to_csv('data/SOFTVOTING_crossdomain.csv', index=False)"
   ]
  }
 ],
 "metadata": {
  "kernelspec": {
   "display_name": "AML",
   "language": "python",
   "name": "aml"
  },
  "language_info": {
   "codemirror_mode": {
    "name": "ipython",
    "version": 3
   },
   "file_extension": ".py",
   "mimetype": "text/x-python",
   "name": "python",
   "nbconvert_exporter": "python",
   "pygments_lexer": "ipython3",
   "version": "3.10.4"
  }
 },
 "nbformat": 4,
 "nbformat_minor": 5
}
