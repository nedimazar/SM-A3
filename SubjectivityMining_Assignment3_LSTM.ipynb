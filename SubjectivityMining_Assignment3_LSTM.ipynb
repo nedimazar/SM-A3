{
  "nbformat": 4,
  "nbformat_minor": 0,
  "metadata": {
    "colab": {
      "provenance": [],
      "authorship_tag": "ABX9TyOAQZlVRiJtgf4rgUixPoHW",
      "include_colab_link": true
    },
    "kernelspec": {
      "name": "python3",
      "display_name": "Python 3"
    },
    "language_info": {
      "name": "python"
    },
    "accelerator": "GPU"
  },
  "cells": [
    {
      "cell_type": "markdown",
      "metadata": {
        "id": "view-in-github",
        "colab_type": "text"
      },
      "source": [
        "<a href=\"https://colab.research.google.com/github/nedimazar/SM-A3/blob/main/SubjectivityMining_Assignment3_LSTM.ipynb\" target=\"_parent\"><img src=\"https://colab.research.google.com/assets/colab-badge.svg\" alt=\"Open In Colab\"/></a>"
      ]
    },
    {
      "cell_type": "code",
      "execution_count": 1,
      "metadata": {
        "id": "9M_t_5pmhpC2"
      },
      "outputs": [],
      "source": [
        "import pandas as pd\n",
        "import numpy as np\n",
        "\n",
        "from collections import Counter\n",
        "\n",
        "import sklearn\n",
        "from sklearn.model_selection import train_test_split\n",
        "from sklearn.metrics import classification_report, ConfusionMatrixDisplay\n",
        "\n",
        "import tensorflow as tf\n",
        "from tensorflow.keras import layers, losses, regularizers, preprocessing\n",
        "from tensorflow.keras.preprocessing.text import Tokenizer\n",
        "from tensorflow.keras.preprocessing.sequence import pad_sequences\n",
        "\n",
        "import matplotlib as mpl\n",
        "import matplotlib.pyplot as plt\n",
        "import seaborn as sns"
      ]
    },
    {
      "cell_type": "code",
      "source": [
        "from google.colab import drive\n",
        "drive.mount('/content/drive')"
      ],
      "metadata": {
        "colab": {
          "base_uri": "https://localhost:8080/"
        },
        "id": "0mFwt3-Wi2q3",
        "outputId": "cfbeabd8-fd50-4dda-8689-f770b8d60194"
      },
      "execution_count": 2,
      "outputs": [
        {
          "output_type": "stream",
          "name": "stdout",
          "text": [
            "Mounted at /content/drive\n"
          ]
        }
      ]
    },
    {
      "cell_type": "code",
      "source": [
        "train_olid_data = pd.read_csv(\"/content/drive/MyDrive/SubjectivityMining3/Subjectivity_mining_assignment_3_4_data/olid-train-small.csv\")\n",
        "train_hasoc_data = pd.read_csv(\"/content/drive/MyDrive/SubjectivityMining3/Subjectivity_mining_assignment_3_4_data/hasoc-train.csv\")"
      ],
      "metadata": {
        "id": "_KRAvOpwjIWu"
      },
      "execution_count": 3,
      "outputs": []
    },
    {
      "cell_type": "markdown",
      "source": [
        "**OLID DATASET**"
      ],
      "metadata": {
        "id": "jLjQGxL8buJr"
      }
    },
    {
      "cell_type": "code",
      "source": [
        "test_olid_data = pd.read_csv(\"/content/drive/MyDrive/SubjectivityMining3/Subjectivity_mining_assignment_3_4_data/olid-test.csv\")\n",
        "\n",
        "train_olid_data.reset_index(drop=True, inplace=True)\n",
        "test_olid_data.reset_index(drop=True, inplace=True)"
      ],
      "metadata": {
        "id": "w-yAtLG7aiv8"
      },
      "execution_count": 4,
      "outputs": []
    },
    {
      "cell_type": "code",
      "source": [
        "X_train_olid, X_valid_olid, y_train_olid, y_valid_olid = train_test_split(train_olid_data['text'].tolist(),\n",
        "                                                      train_olid_data['labels'].tolist(),\n",
        "                                                      test_size=0.2,\n",
        "                                                      stratify=train_olid_data['labels'].tolist(),\n",
        "                                                      random_state=0)"
      ],
      "metadata": {
        "id": "uGCcFrsQswGq"
      },
      "execution_count": 5,
      "outputs": []
    },
    {
      "cell_type": "code",
      "source": [
        "num_words = 50000\n",
        "\n",
        "tokenizer = Tokenizer(num_words=num_words)\n",
        "tokenizer.fit_on_texts(X_train_olid)"
      ],
      "metadata": {
        "id": "-GnXvh0b3BV6"
      },
      "execution_count": 6,
      "outputs": []
    },
    {
      "cell_type": "code",
      "source": [
        "X_train_olid = np.array(tokenizer.texts_to_sequences(X_train_olid))\n",
        "X_valid_olid = np.array(tokenizer.texts_to_sequences(X_valid_olid))\n",
        "X_test = np.array(tokenizer.texts_to_sequences(test_olid_data['text'].tolist()))\n",
        "\n",
        "maxlen = 50\n",
        "X_train_olid = pad_sequences(X_train_olid, padding='post', maxlen=maxlen)\n",
        "X_valid_olid = pad_sequences(X_valid_olid, padding='post', maxlen=maxlen)\n",
        "X_test = pad_sequences(X_test, padding='post', maxlen=maxlen)\n",
        "\n",
        "train_olid_labels = np.asarray(y_train_olid)\n",
        "valid_olid_labels = np.asarray(y_valid_olid)\n",
        "test_labels = np.asarray(test_olid_data['labels'].tolist())\n",
        "\n",
        "print('Train data len:'+str(len(X_train_olid)))\n",
        "print('Class distribution:'+str(Counter(train_olid_labels)))\n",
        "\n",
        "print('Validation data len:'+str(len(X_valid_olid)))\n",
        "print('Class distribution:'+str(Counter(valid_olid_labels)))\n",
        "\n",
        "print('Test data len:'+str(len(X_test)))\n",
        "print('Class distribution:'+str(Counter(test_labels)))\n",
        "\n",
        "train_olid_ds = tf.data.Dataset.from_tensor_slices((X_train_olid, train_olid_labels))\n",
        "valid_olid_ds = tf.data.Dataset.from_tensor_slices((X_valid_olid, valid_olid_labels))\n",
        "test_ds = tf.data.Dataset.from_tensor_slices((X_test, test_labels))"
      ],
      "metadata": {
        "id": "JWBIoUbm3NYy",
        "colab": {
          "base_uri": "https://localhost:8080/"
        },
        "outputId": "74197b63-7843-4da9-9f0d-68c47f822f71"
      },
      "execution_count": 7,
      "outputs": [
        {
          "output_type": "stream",
          "name": "stderr",
          "text": [
            "/usr/local/lib/python3.7/dist-packages/ipykernel_launcher.py:1: VisibleDeprecationWarning: Creating an ndarray from ragged nested sequences (which is a list-or-tuple of lists-or-tuples-or ndarrays with different lengths or shapes) is deprecated. If you meant to do this, you must specify 'dtype=object' when creating the ndarray.\n",
            "  \"\"\"Entry point for launching an IPython kernel.\n",
            "/usr/local/lib/python3.7/dist-packages/ipykernel_launcher.py:2: VisibleDeprecationWarning: Creating an ndarray from ragged nested sequences (which is a list-or-tuple of lists-or-tuples-or ndarrays with different lengths or shapes) is deprecated. If you meant to do this, you must specify 'dtype=object' when creating the ndarray.\n",
            "  \n",
            "/usr/local/lib/python3.7/dist-packages/ipykernel_launcher.py:3: VisibleDeprecationWarning: Creating an ndarray from ragged nested sequences (which is a list-or-tuple of lists-or-tuples-or ndarrays with different lengths or shapes) is deprecated. If you meant to do this, you must specify 'dtype=object' when creating the ndarray.\n",
            "  This is separate from the ipykernel package so we can avoid doing imports until\n"
          ]
        },
        {
          "output_type": "stream",
          "name": "stdout",
          "text": [
            "Train data len:4681\n",
            "Class distribution:Counter({0: 2872, 1: 1809})\n",
            "Validation data len:1171\n",
            "Class distribution:Counter({0: 719, 1: 452})\n",
            "Test data len:860\n",
            "Class distribution:Counter({0: 620, 1: 240})\n"
          ]
        }
      ]
    },
    {
      "cell_type": "code",
      "source": [
        "count = 0\n",
        "print('===== TRAIN OLID DATASET ======')\n",
        "for value, label in train_olid_ds:\n",
        "  count += 1\n",
        "  print(value, label)\n",
        "  if count == 1:\n",
        "    break\n",
        "\n",
        "count = 0\n",
        "print('===== VALIDATION DATASET ======')\n",
        "for value, label in valid_olid_ds:\n",
        "  count += 1\n",
        "  print(value, label)\n",
        "  if count == 1:\n",
        "    break\n",
        "\n",
        "count = 0\n",
        "print('===== TEST DATASET ======')\n",
        "for value, label in test_ds:\n",
        "  count += 1\n",
        "  print(value, label)\n",
        "  if count == 1:\n",
        "    break"
      ],
      "metadata": {
        "colab": {
          "base_uri": "https://localhost:8080/"
        },
        "id": "UGJ3UZpi7pqD",
        "outputId": "d02085c3-10a8-464c-d674-54f06da404b0"
      },
      "execution_count": 8,
      "outputs": [
        {
          "output_type": "stream",
          "name": "stdout",
          "text": [
            "===== TRAIN OLID DATASET ======\n",
            "tf.Tensor(\n",
            "[   1  178   30 1321   20   25   12  592 3273  316  140  449    6 1064\n",
            " 3274    0    0    0    0    0    0    0    0    0    0    0    0    0\n",
            "    0    0    0    0    0    0    0    0    0    0    0    0    0    0\n",
            "    0    0    0    0    0    0    0    0], shape=(50,), dtype=int32) tf.Tensor(0, shape=(), dtype=int64)\n",
            "===== VALIDATION DATASET ======\n",
            "tf.Tensor(\n",
            "[  798   592  2248   362   375    67  1216    72    98  1081   373    67\n",
            "   774    26    29  2873 10495     4   724  1212  2998  4450    49   144\n",
            "    90  3722   110  1504   517  1722    67    21    82   199     3    38\n",
            "   222   244     0     0     0     0     0     0     0     0     0     0\n",
            "     0     0], shape=(50,), dtype=int32) tf.Tensor(1, shape=(), dtype=int64)\n",
            "===== TEST DATASET ======\n",
            "tf.Tensor(\n",
            "[  130   177    31  1141 10618  1106   426  3113  1441   425  1128  7831\n",
            "     6   963   466   417  3852     1    17     0     0     0     0     0\n",
            "     0     0     0     0     0     0     0     0     0     0     0     0\n",
            "     0     0     0     0     0     0     0     0     0     0     0     0\n",
            "     0     0], shape=(50,), dtype=int32) tf.Tensor(1, shape=(), dtype=int64)\n"
          ]
        }
      ]
    },
    {
      "cell_type": "code",
      "source": [
        "max_features = 50000\n",
        "embedding_dim = 16\n",
        "sequence_length = maxlen\n",
        "\n",
        "model = tf.keras.Sequential()\n",
        "model.add(tf.keras.layers.Embedding(max_features +1, embedding_dim, input_length=sequence_length, embeddings_regularizer = regularizers.l2(0.005)))\n",
        "model.add(tf.keras.layers.Dropout(0.4))\n",
        "\n",
        "model.add(tf.keras.layers.LSTM(embedding_dim, dropout=0.2, recurrent_dropout=0.2, return_sequences=True, kernel_regularizer=regularizers.l2(0.005), bias_regularizer=regularizers.l2(0.005)))\n",
        "\n",
        "model.add(tf.keras.layers.Flatten())\n",
        "\n",
        "model.add(tf.keras.layers.Dense(512, activation='relu', kernel_regularizer=regularizers.l2(0.001), bias_regularizer=regularizers.l2(0.001)))\n",
        "model.add(tf.keras.layers.Dropout(0.4))\n",
        "\n",
        "model.add(tf.keras.layers.Dense(8, activation='relu', kernel_regularizer=regularizers.l2(0.001), bias_regularizer=regularizers.l2(0.001)))\n",
        "model.add(tf.keras.layers.Dropout(0.4))\n",
        "\n",
        "model.add(tf.keras.layers.Dense(1, activation='sigmoid'))\n",
        "\n",
        "model.summary()\n",
        "model.compile(loss=tf.keras.losses.BinaryCrossentropy(), optimizer=tf.keras.optimizers.Adam(1e-3), metrics=[tf.keras.metrics.BinaryAccuracy()])\n"
      ],
      "metadata": {
        "id": "WS_fq1so8J2k",
        "colab": {
          "base_uri": "https://localhost:8080/"
        },
        "outputId": "f90403a3-1326-4495-d393-76698e7978ec"
      },
      "execution_count": 9,
      "outputs": [
        {
          "output_type": "stream",
          "name": "stderr",
          "text": [
            "WARNING:tensorflow:Layer lstm will not use cuDNN kernels since it doesn't meet the criteria. It will use a generic GPU kernel as fallback when running on GPU.\n"
          ]
        },
        {
          "output_type": "stream",
          "name": "stdout",
          "text": [
            "Model: \"sequential\"\n",
            "_________________________________________________________________\n",
            " Layer (type)                Output Shape              Param #   \n",
            "=================================================================\n",
            " embedding (Embedding)       (None, 50, 16)            800016    \n",
            "                                                                 \n",
            " dropout (Dropout)           (None, 50, 16)            0         \n",
            "                                                                 \n",
            " lstm (LSTM)                 (None, 50, 16)            2112      \n",
            "                                                                 \n",
            " flatten (Flatten)           (None, 800)               0         \n",
            "                                                                 \n",
            " dense (Dense)               (None, 512)               410112    \n",
            "                                                                 \n",
            " dropout_1 (Dropout)         (None, 512)               0         \n",
            "                                                                 \n",
            " dense_1 (Dense)             (None, 8)                 4104      \n",
            "                                                                 \n",
            " dropout_2 (Dropout)         (None, 8)                 0         \n",
            "                                                                 \n",
            " dense_2 (Dense)             (None, 1)                 9         \n",
            "                                                                 \n",
            "=================================================================\n",
            "Total params: 1,216,353\n",
            "Trainable params: 1,216,353\n",
            "Non-trainable params: 0\n",
            "_________________________________________________________________\n"
          ]
        }
      ]
    },
    {
      "cell_type": "code",
      "source": [
        "epochs = 50\n",
        "\n",
        "history = model.fit(train_olid_ds.batch(1024), epochs=epochs, validation_data=valid_olid_ds.batch(1024), verbose=1)"
      ],
      "metadata": {
        "id": "7WQv-xK-FT9c",
        "colab": {
          "base_uri": "https://localhost:8080/"
        },
        "outputId": "12ba8c18-1dee-4442-c41c-0c503f914687"
      },
      "execution_count": 10,
      "outputs": [
        {
          "output_type": "stream",
          "name": "stdout",
          "text": [
            "Epoch 1/50\n",
            "5/5 [==============================] - 10s 765ms/step - loss: 4.4749 - binary_accuracy: 0.5994 - val_loss: 3.8247 - val_binary_accuracy: 0.6140\n",
            "Epoch 2/50\n",
            "5/5 [==============================] - 3s 520ms/step - loss: 3.5156 - binary_accuracy: 0.6131 - val_loss: 3.0056 - val_binary_accuracy: 0.6140\n",
            "Epoch 3/50\n",
            "5/5 [==============================] - 2s 449ms/step - loss: 2.7653 - binary_accuracy: 0.6135 - val_loss: 2.3725 - val_binary_accuracy: 0.6140\n",
            "Epoch 4/50\n",
            "5/5 [==============================] - 2s 470ms/step - loss: 2.1905 - binary_accuracy: 0.6135 - val_loss: 1.8959 - val_binary_accuracy: 0.6140\n",
            "Epoch 5/50\n",
            "5/5 [==============================] - 3s 560ms/step - loss: 1.7634 - binary_accuracy: 0.6135 - val_loss: 1.5472 - val_binary_accuracy: 0.6140\n",
            "Epoch 6/50\n",
            "5/5 [==============================] - 3s 583ms/step - loss: 1.4528 - binary_accuracy: 0.6135 - val_loss: 1.3004 - val_binary_accuracy: 0.6140\n",
            "Epoch 7/50\n",
            "5/5 [==============================] - 2s 474ms/step - loss: 1.2383 - binary_accuracy: 0.6135 - val_loss: 1.1301 - val_binary_accuracy: 0.6140\n",
            "Epoch 8/50\n",
            "5/5 [==============================] - 3s 552ms/step - loss: 1.0863 - binary_accuracy: 0.6135 - val_loss: 1.0142 - val_binary_accuracy: 0.6140\n",
            "Epoch 9/50\n",
            "5/5 [==============================] - 3s 536ms/step - loss: 0.9876 - binary_accuracy: 0.6135 - val_loss: 0.9373 - val_binary_accuracy: 0.6140\n",
            "Epoch 10/50\n",
            "5/5 [==============================] - 3s 534ms/step - loss: 0.9196 - binary_accuracy: 0.6135 - val_loss: 0.8868 - val_binary_accuracy: 0.6140\n",
            "Epoch 11/50\n",
            "5/5 [==============================] - 1s 220ms/step - loss: 0.8763 - binary_accuracy: 0.6135 - val_loss: 0.8532 - val_binary_accuracy: 0.6140\n",
            "Epoch 12/50\n",
            "5/5 [==============================] - 1s 207ms/step - loss: 0.8470 - binary_accuracy: 0.6135 - val_loss: 0.8307 - val_binary_accuracy: 0.6140\n",
            "Epoch 13/50\n",
            "5/5 [==============================] - 1s 231ms/step - loss: 0.8258 - binary_accuracy: 0.6135 - val_loss: 0.8151 - val_binary_accuracy: 0.6140\n",
            "Epoch 14/50\n",
            "5/5 [==============================] - 1s 219ms/step - loss: 0.8137 - binary_accuracy: 0.6135 - val_loss: 0.8033 - val_binary_accuracy: 0.6140\n",
            "Epoch 15/50\n",
            "5/5 [==============================] - 1s 207ms/step - loss: 0.8024 - binary_accuracy: 0.6135 - val_loss: 0.7941 - val_binary_accuracy: 0.6140\n",
            "Epoch 16/50\n",
            "5/5 [==============================] - 1s 233ms/step - loss: 0.7926 - binary_accuracy: 0.6135 - val_loss: 0.7859 - val_binary_accuracy: 0.6140\n",
            "Epoch 17/50\n",
            "5/5 [==============================] - 1s 226ms/step - loss: 0.7833 - binary_accuracy: 0.6135 - val_loss: 0.7790 - val_binary_accuracy: 0.6140\n",
            "Epoch 18/50\n",
            "5/5 [==============================] - 1s 215ms/step - loss: 0.7757 - binary_accuracy: 0.6135 - val_loss: 0.7713 - val_binary_accuracy: 0.6140\n",
            "Epoch 19/50\n",
            "5/5 [==============================] - 1s 219ms/step - loss: 0.7650 - binary_accuracy: 0.6135 - val_loss: 0.7633 - val_binary_accuracy: 0.6140\n",
            "Epoch 20/50\n",
            "5/5 [==============================] - 1s 210ms/step - loss: 0.7538 - binary_accuracy: 0.6135 - val_loss: 0.7537 - val_binary_accuracy: 0.6140\n",
            "Epoch 21/50\n",
            "5/5 [==============================] - 1s 212ms/step - loss: 0.7333 - binary_accuracy: 0.6135 - val_loss: 0.7531 - val_binary_accuracy: 0.6140\n",
            "Epoch 22/50\n",
            "5/5 [==============================] - 1s 216ms/step - loss: 0.7201 - binary_accuracy: 0.6135 - val_loss: 0.7462 - val_binary_accuracy: 0.6140\n",
            "Epoch 23/50\n",
            "5/5 [==============================] - 1s 213ms/step - loss: 0.7055 - binary_accuracy: 0.6135 - val_loss: 0.7509 - val_binary_accuracy: 0.6140\n",
            "Epoch 24/50\n",
            "5/5 [==============================] - 1s 216ms/step - loss: 0.6893 - binary_accuracy: 0.6135 - val_loss: 0.7632 - val_binary_accuracy: 0.6140\n",
            "Epoch 25/50\n",
            "5/5 [==============================] - 1s 209ms/step - loss: 0.6680 - binary_accuracy: 0.6135 - val_loss: 0.7773 - val_binary_accuracy: 0.6140\n",
            "Epoch 26/50\n",
            "5/5 [==============================] - 1s 213ms/step - loss: 0.6581 - binary_accuracy: 0.6135 - val_loss: 0.8925 - val_binary_accuracy: 0.6140\n",
            "Epoch 27/50\n",
            "5/5 [==============================] - 1s 201ms/step - loss: 0.6489 - binary_accuracy: 0.6135 - val_loss: 0.8357 - val_binary_accuracy: 0.7071\n",
            "Epoch 28/50\n",
            "5/5 [==============================] - 1s 223ms/step - loss: 0.6252 - binary_accuracy: 0.8244 - val_loss: 0.8169 - val_binary_accuracy: 0.6670\n",
            "Epoch 29/50\n",
            "5/5 [==============================] - 1s 225ms/step - loss: 0.6168 - binary_accuracy: 0.8366 - val_loss: 0.8671 - val_binary_accuracy: 0.6652\n",
            "Epoch 30/50\n",
            "5/5 [==============================] - 1s 214ms/step - loss: 0.5931 - binary_accuracy: 0.8481 - val_loss: 0.9826 - val_binary_accuracy: 0.6874\n",
            "Epoch 31/50\n",
            "5/5 [==============================] - 1s 212ms/step - loss: 0.5850 - binary_accuracy: 0.8511 - val_loss: 1.0557 - val_binary_accuracy: 0.6943\n",
            "Epoch 32/50\n",
            "5/5 [==============================] - 1s 208ms/step - loss: 0.5938 - binary_accuracy: 0.8404 - val_loss: 1.2046 - val_binary_accuracy: 0.7037\n",
            "Epoch 33/50\n",
            "5/5 [==============================] - 1s 202ms/step - loss: 0.5935 - binary_accuracy: 0.8502 - val_loss: 1.0194 - val_binary_accuracy: 0.6951\n",
            "Epoch 34/50\n",
            "5/5 [==============================] - 1s 215ms/step - loss: 0.5895 - binary_accuracy: 0.8564 - val_loss: 0.8432 - val_binary_accuracy: 0.6627\n",
            "Epoch 35/50\n",
            "5/5 [==============================] - 1s 221ms/step - loss: 0.5812 - binary_accuracy: 0.8622 - val_loss: 0.8330 - val_binary_accuracy: 0.6225\n",
            "Epoch 36/50\n",
            "5/5 [==============================] - 1s 202ms/step - loss: 0.5907 - binary_accuracy: 0.8539 - val_loss: 1.0001 - val_binary_accuracy: 0.6866\n",
            "Epoch 37/50\n",
            "5/5 [==============================] - 1s 209ms/step - loss: 0.5567 - binary_accuracy: 0.8695 - val_loss: 1.0744 - val_binary_accuracy: 0.6763\n",
            "Epoch 38/50\n",
            "5/5 [==============================] - 1s 222ms/step - loss: 0.5409 - binary_accuracy: 0.8887 - val_loss: 1.0458 - val_binary_accuracy: 0.6729\n",
            "Epoch 39/50\n",
            "5/5 [==============================] - 1s 203ms/step - loss: 0.5410 - binary_accuracy: 0.8853 - val_loss: 1.0712 - val_binary_accuracy: 0.6789\n",
            "Epoch 40/50\n",
            "5/5 [==============================] - 1s 201ms/step - loss: 0.5352 - binary_accuracy: 0.8872 - val_loss: 1.2387 - val_binary_accuracy: 0.6840\n",
            "Epoch 41/50\n",
            "5/5 [==============================] - 1s 208ms/step - loss: 0.5234 - binary_accuracy: 0.8938 - val_loss: 1.1620 - val_binary_accuracy: 0.6849\n",
            "Epoch 42/50\n",
            "5/5 [==============================] - 1s 214ms/step - loss: 0.5287 - binary_accuracy: 0.8936 - val_loss: 1.1352 - val_binary_accuracy: 0.6883\n",
            "Epoch 43/50\n",
            "5/5 [==============================] - 1s 212ms/step - loss: 0.5295 - binary_accuracy: 0.8928 - val_loss: 1.0047 - val_binary_accuracy: 0.6482\n",
            "Epoch 44/50\n",
            "5/5 [==============================] - 1s 222ms/step - loss: 0.5325 - binary_accuracy: 0.8934 - val_loss: 0.9444 - val_binary_accuracy: 0.6413\n",
            "Epoch 45/50\n",
            "5/5 [==============================] - 1s 207ms/step - loss: 0.5186 - binary_accuracy: 0.8985 - val_loss: 1.0039 - val_binary_accuracy: 0.6388\n",
            "Epoch 46/50\n",
            "5/5 [==============================] - 1s 206ms/step - loss: 0.5204 - binary_accuracy: 0.9034 - val_loss: 1.0993 - val_binary_accuracy: 0.6670\n",
            "Epoch 47/50\n",
            "5/5 [==============================] - 1s 215ms/step - loss: 0.5244 - binary_accuracy: 0.8992 - val_loss: 1.1123 - val_binary_accuracy: 0.6857\n",
            "Epoch 48/50\n",
            "5/5 [==============================] - 1s 209ms/step - loss: 0.5160 - binary_accuracy: 0.9004 - val_loss: 1.4112 - val_binary_accuracy: 0.6985\n",
            "Epoch 49/50\n",
            "5/5 [==============================] - 1s 203ms/step - loss: 0.5573 - binary_accuracy: 0.8755 - val_loss: 0.9850 - val_binary_accuracy: 0.6934\n",
            "Epoch 50/50\n",
            "5/5 [==============================] - 1s 208ms/step - loss: 0.5187 - binary_accuracy: 0.9004 - val_loss: 0.9226 - val_binary_accuracy: 0.6541\n"
          ]
        }
      ]
    },
    {
      "cell_type": "code",
      "source": [
        "valid_olid_predict = model.predict(X_valid_olid)\n",
        "print(valid_olid_predict[:10])"
      ],
      "metadata": {
        "id": "rC-iPFl5G3f-",
        "colab": {
          "base_uri": "https://localhost:8080/"
        },
        "outputId": "3049c671-15bc-43ba-e667-604a56570638"
      },
      "execution_count": 11,
      "outputs": [
        {
          "output_type": "stream",
          "name": "stdout",
          "text": [
            "37/37 [==============================] - 1s 15ms/step\n",
            "[[0.47659707]\n",
            " [0.5436362 ]\n",
            " [0.5436362 ]\n",
            " [0.5436362 ]\n",
            " [0.41087782]\n",
            " [0.00097732]\n",
            " [0.02088268]\n",
            " [0.00059916]\n",
            " [0.5436362 ]\n",
            " [0.36278757]]\n"
          ]
        }
      ]
    },
    {
      "cell_type": "code",
      "source": [
        "X_test = np.array(tokenizer.texts_to_sequences(test_olid_data['text'].tolist()))\n",
        "X_test = pad_sequences(X_test, padding='post', maxlen=maxlen)\n",
        "\n",
        "predictions=model.predict(X_test)"
      ],
      "metadata": {
        "id": "3ZARAjB_HAoP",
        "colab": {
          "base_uri": "https://localhost:8080/"
        },
        "outputId": "47095ec9-e127-4cc7-8695-80d358a205d7"
      },
      "execution_count": 12,
      "outputs": [
        {
          "output_type": "stream",
          "name": "stdout",
          "text": [
            " 8/27 [=======>......................] - ETA: 0s"
          ]
        },
        {
          "output_type": "stream",
          "name": "stderr",
          "text": [
            "/usr/local/lib/python3.7/dist-packages/ipykernel_launcher.py:1: VisibleDeprecationWarning: Creating an ndarray from ragged nested sequences (which is a list-or-tuple of lists-or-tuples-or ndarrays with different lengths or shapes) is deprecated. If you meant to do this, you must specify 'dtype=object' when creating the ndarray.\n",
            "  \"\"\"Entry point for launching an IPython kernel.\n"
          ]
        },
        {
          "output_type": "stream",
          "name": "stdout",
          "text": [
            "27/27 [==============================] - 0s 15ms/step\n"
          ]
        }
      ]
    },
    {
      "cell_type": "code",
      "source": [
        "f, (ax1, ax2) = plt.subplots(1, 2, figsize=(15, 5))\n",
        "ax1.scatter(predictions, range(0,len(predictions)), alpha=0.2)\n",
        "ax2=sns.distplot(predictions)"
      ],
      "metadata": {
        "colab": {
          "base_uri": "https://localhost:8080/",
          "height": 375
        },
        "id": "3xC5IiQGHVTe",
        "outputId": "6f34f211-07b4-4ada-fc9a-ee9f5f673cdd"
      },
      "execution_count": 13,
      "outputs": [
        {
          "output_type": "stream",
          "name": "stderr",
          "text": [
            "/usr/local/lib/python3.7/dist-packages/seaborn/distributions.py:2619: FutureWarning: `distplot` is a deprecated function and will be removed in a future version. Please adapt your code to use either `displot` (a figure-level function with similar flexibility) or `histplot` (an axes-level function for histograms).\n",
            "  warnings.warn(msg, FutureWarning)\n"
          ]
        },
        {
          "output_type": "display_data",
          "data": {
            "text/plain": [
              "<Figure size 1080x360 with 2 Axes>"
            ],
            "image/png": "[encoded data removed]"
          },
          "metadata": {
            "needs_background": "light"
          }
        }
      ]
    },
    {
      "cell_type": "code",
      "source": [
        "def plot_roc(name, labels, predictions, **kwargs):\n",
        "  fp, tp, thresholds = sklearn.metrics.roc_curve(labels, predictions)\n",
        "  plt.plot(fp, tp, label=name, linewidth=2, **kwargs)\n",
        "  plt.xlabel(\"False positives Rate\")\n",
        "  plt.ylabel(\"True positives Rate\")\n",
        "  plt.xlim([-0.03, 1.0])\n",
        "  plt.ylim([0.0, 1.03])\n",
        "  plt.grid(True)\n",
        "  thresholdsLength = len(thresholds)\n",
        "  thresholds_every = 1000\n",
        "  colorMap = plt.get_cmap('jet', thresholdsLength)\n",
        "  for i in range(0, thresholdsLength, thresholds_every):\n",
        "    threshold_value_with_max_four_decimals = str(thresholds[i])[:5]\n",
        "    plt.text(fp[i] - 0.03, tp[i] + 0.001, threshold_value_with_max_four_decimals, fontdict={'size': 15})\n",
        "\n",
        "    ax=plt.gca()\n",
        "    ax.set_aspect('equal')\n",
        "\n",
        "mpl.rcParams['figure.figsize'] = (7,7)\n",
        "\n",
        "colors = plt.rcParams['axes.prop_cycle'].by_key()['color']\n",
        "plot_roc(\"Valid Baseline\", valid_olid_labels, valid_olid_predict, color=colors[0], linestyle=\"--\")\n",
        "plt.legend(loc='lower right')"
      ],
      "metadata": {
        "colab": {
          "base_uri": "https://localhost:8080/",
          "height": 459
        },
        "id": "aaA1TUJUJMl4",
        "outputId": "fbef6b57-c904-4a44-8f0a-2914e182c395"
      },
      "execution_count": 14,
      "outputs": [
        {
          "output_type": "execute_result",
          "data": {
            "text/plain": [
              "<matplotlib.legend.Legend at 0x7f3f8415a5d0>"
            ]
          },
          "metadata": {},
          "execution_count": 14
        },
        {
          "output_type": "display_data",
          "data": {
            "text/plain": [
              "<Figure size 504x504 with 1 Axes>"
            ],
            "image/png": "[encoded data removed]"
          },
          "metadata": {
            "needs_background": "light"
          }
        }
      ]
    },
    {
      "cell_type": "code",
      "source": [
        "cutoff=0.5\n",
        "test_olid_data['pred_sentiment'] = predictions\n",
        "test_olid_data['pred_sentiment'] = np.where((test_olid_data.pred_sentiment >= cutoff), 1, test_olid_data.pred_sentiment)\n",
        "test_olid_data['pred_sentiment'] = np.where((test_olid_data.pred_sentiment < cutoff), 0, test_olid_data.pred_sentiment)\n",
        "\n",
        "\n",
        "labels= [0, 1]\n",
        "print(classification_report(test_olid_data['labels'].tolist(), test_olid_data['pred_sentiment'].tolist(), labels=labels))"
      ],
      "metadata": {
        "colab": {
          "base_uri": "https://localhost:8080/"
        },
        "id": "ExtZXQA5K6wL",
        "outputId": "104f3d3f-0ff3-444b-e2ba-35176bb3dab8"
      },
      "execution_count": 15,
      "outputs": [
        {
          "output_type": "stream",
          "name": "stdout",
          "text": [
            "              precision    recall  f1-score   support\n",
            "\n",
            "           0       0.83      0.69      0.75       620\n",
            "           1       0.44      0.63      0.52       240\n",
            "\n",
            "    accuracy                           0.67       860\n",
            "   macro avg       0.63      0.66      0.63       860\n",
            "weighted avg       0.72      0.67      0.68       860\n",
            "\n"
          ]
        }
      ]
    },
    {
      "cell_type": "code",
      "source": [
        "test_olid_data"
      ],
      "metadata": {
        "id": "PKURpLRdeIeq",
        "colab": {
          "base_uri": "https://localhost:8080/",
          "height": 424
        },
        "outputId": "1549495b-2e39-4507-8fc9-1ef26d20d95b"
      },
      "execution_count": 16,
      "outputs": [
        {
          "output_type": "execute_result",
          "data": {
            "text/plain": [
              "        id                                               text  labels  \\\n",
              "0    15923  #WhoIsQ #WheresTheServer #DumpNike #DECLASFISA...       1   \n",
              "1    27014  #ConstitutionDay is revered by Conservatives, ...       0   \n",
              "2    30530  #FOXNews #NRA #MAGA #POTUS #TRUMP #2ndAmendmen...       0   \n",
              "3    13876  #Watching #Boomer getting the news that she is...       0   \n",
              "4    60133  #NoPasaran: Unity demo to oppose the far-right...       1   \n",
              "..     ...                                                ...     ...   \n",
              "855  73439  #DespicableDems lie again about rifles. Dem Di...       1   \n",
              "856  25657  #MeetTheSpeakers 🙌 @USER will present in our e...       0   \n",
              "857  67018  3 people just unfollowed me for talking about ...       1   \n",
              "858  50665  #WednesdayWisdom Antifa calls the right fascis...       0   \n",
              "859  24583      #Kavanaugh typical #liberals , #Democrats URL       0   \n",
              "\n",
              "     pred_sentiment  \n",
              "0               1.0  \n",
              "1               0.0  \n",
              "2               1.0  \n",
              "3               0.0  \n",
              "4               1.0  \n",
              "..              ...  \n",
              "855             0.0  \n",
              "856             0.0  \n",
              "857             1.0  \n",
              "858             1.0  \n",
              "859             0.0  \n",
              "\n",
              "[860 rows x 4 columns]"
            ],
            "text/html": [
              "\n",
              "  <div id=\"df-ed3e5fd2-ba84-4916-a473-4dafb9df1df2\">\n",
              "    <div class=\"colab-df-container\">\n",
              "      <div>\n",
              "<style scoped>\n",
              "    .dataframe tbody tr th:only-of-type {\n",
              "        vertical-align: middle;\n",
              "    }\n",
              "\n",
              "    .dataframe tbody tr th {\n",
              "        vertical-align: top;\n",
              "    }\n",
              "\n",
              "    .dataframe thead th {\n",
              "        text-align: right;\n",
              "    }\n",
              "</style>\n",
              "<table border=\"1\" class=\"dataframe\">\n",
              "  <thead>\n",
              "    <tr style=\"text-align: right;\">\n",
              "      <th></th>\n",
              "      <th>id</th>\n",
              "      <th>text</th>\n",
              "      <th>labels</th>\n",
              "      <th>pred_sentiment</th>\n",
              "    </tr>\n",
              "  </thead>\n",
              "  <tbody>\n",
              "    <tr>\n",
              "      <th>0</th>\n",
              "      <td>15923</td>\n",
              "      <td>#WhoIsQ #WheresTheServer #DumpNike #DECLASFISA...</td>\n",
              "      <td>1</td>\n",
              "      <td>1.0</td>\n",
              "    </tr>\n",
              "    <tr>\n",
              "      <th>1</th>\n",
              "      <td>27014</td>\n",
              "      <td>#ConstitutionDay is revered by Conservatives, ...</td>\n",
              "      <td>0</td>\n",
              "      <td>0.0</td>\n",
              "    </tr>\n",
              "    <tr>\n",
              "      <th>2</th>\n",
              "      <td>30530</td>\n",
              "      <td>#FOXNews #NRA #MAGA #POTUS #TRUMP #2ndAmendmen...</td>\n",
              "      <td>0</td>\n",
              "      <td>1.0</td>\n",
              "    </tr>\n",
              "    <tr>\n",
              "      <th>3</th>\n",
              "      <td>13876</td>\n",
              "      <td>#Watching #Boomer getting the news that she is...</td>\n",
              "      <td>0</td>\n",
              "      <td>0.0</td>\n",
              "    </tr>\n",
              "    <tr>\n",
              "      <th>4</th>\n",
              "      <td>60133</td>\n",
              "      <td>#NoPasaran: Unity demo to oppose the far-right...</td>\n",
              "      <td>1</td>\n",
              "      <td>1.0</td>\n",
              "    </tr>\n",
              "    <tr>\n",
              "      <th>...</th>\n",
              "      <td>...</td>\n",
              "      <td>...</td>\n",
              "      <td>...</td>\n",
              "      <td>...</td>\n",
              "    </tr>\n",
              "    <tr>\n",
              "      <th>855</th>\n",
              "      <td>73439</td>\n",
              "      <td>#DespicableDems lie again about rifles. Dem Di...</td>\n",
              "      <td>1</td>\n",
              "      <td>0.0</td>\n",
              "    </tr>\n",
              "    <tr>\n",
              "      <th>856</th>\n",
              "      <td>25657</td>\n",
              "      <td>#MeetTheSpeakers 🙌 @USER will present in our e...</td>\n",
              "      <td>0</td>\n",
              "      <td>0.0</td>\n",
              "    </tr>\n",
              "    <tr>\n",
              "      <th>857</th>\n",
              "      <td>67018</td>\n",
              "      <td>3 people just unfollowed me for talking about ...</td>\n",
              "      <td>1</td>\n",
              "      <td>1.0</td>\n",
              "    </tr>\n",
              "    <tr>\n",
              "      <th>858</th>\n",
              "      <td>50665</td>\n",
              "      <td>#WednesdayWisdom Antifa calls the right fascis...</td>\n",
              "      <td>0</td>\n",
              "      <td>1.0</td>\n",
              "    </tr>\n",
              "    <tr>\n",
              "      <th>859</th>\n",
              "      <td>24583</td>\n",
              "      <td>#Kavanaugh typical #liberals , #Democrats URL</td>\n",
              "      <td>0</td>\n",
              "      <td>0.0</td>\n",
              "    </tr>\n",
              "  </tbody>\n",
              "</table>\n",
              "<p>860 rows × 4 columns</p>\n",
              "</div>\n",
              "      <button class=\"colab-df-convert\" onclick=\"convertToInteractive('df-ed3e5fd2-ba84-4916-a473-4dafb9df1df2')\"\n",
              "              title=\"Convert this dataframe to an interactive table.\"\n",
              "              style=\"display:none;\">\n",
              "        \n",
              "  <svg xmlns=\"http://www.w3.org/2000/svg\" height=\"24px\"viewBox=\"0 0 24 24\"\n",
              "       width=\"24px\">\n",
              "    <path d=\"M0 0h24v24H0V0z\" fill=\"none\"/>\n",
              "    <path d=\"M18.56 5.44l.94 2.06.94-2.06 2.06-.94-2.06-.94-.94-2.06-.94 2.06-2.06.94zm-11 1L8.5 8.5l.94-2.06 2.06-.94-2.06-.94L8.5 2.5l-.94 2.06-2.06.94zm10 10l.94 2.06.94-2.06 2.06-.94-2.06-.94-.94-2.06-.94 2.06-2.06.94z\"/><path d=\"M17.41 7.96l-1.37-1.37c-.4-.4-.92-.59-1.43-.59-.52 0-1.04.2-1.43.59L10.3 9.45l-7.72 7.72c-.78.78-.78 2.05 0 2.83L4 21.41c.39.39.9.59 1.41.59.51 0 1.02-.2 1.41-.59l7.78-7.78 2.81-2.81c.8-.78.8-2.07 0-2.86zM5.41 20L4 18.59l7.72-7.72 1.47 1.35L5.41 20z\"/>\n",
              "  </svg>\n",
              "      </button>\n",
              "      \n",
              "  <style>\n",
              "    .colab-df-container {\n",
              "      display:flex;\n",
              "      flex-wrap:wrap;\n",
              "      gap: 12px;\n",
              "    }\n",
              "\n",
              "    .colab-df-convert {\n",
              "      background-color: #E8F0FE;\n",
              "      border: none;\n",
              "      border-radius: 50%;\n",
              "      cursor: pointer;\n",
              "      display: none;\n",
              "      fill: #1967D2;\n",
              "      height: 32px;\n",
              "      padding: 0 0 0 0;\n",
              "      width: 32px;\n",
              "    }\n",
              "\n",
              "    .colab-df-convert:hover {\n",
              "      background-color: #E2EBFA;\n",
              "      box-shadow: 0px 1px 2px rgba(60, 64, 67, 0.3), 0px 1px 3px 1px rgba(60, 64, 67, 0.15);\n",
              "      fill: #174EA6;\n",
              "    }\n",
              "\n",
              "    [theme=dark] .colab-df-convert {\n",
              "      background-color: #3B4455;\n",
              "      fill: #D2E3FC;\n",
              "    }\n",
              "\n",
              "    [theme=dark] .colab-df-convert:hover {\n",
              "      background-color: #434B5C;\n",
              "      box-shadow: 0px 1px 3px 1px rgba(0, 0, 0, 0.15);\n",
              "      filter: drop-shadow(0px 1px 2px rgba(0, 0, 0, 0.3));\n",
              "      fill: #FFFFFF;\n",
              "    }\n",
              "  </style>\n",
              "\n",
              "      <script>\n",
              "        const buttonEl =\n",
              "          document.querySelector('#df-ed3e5fd2-ba84-4916-a473-4dafb9df1df2 button.colab-df-convert');\n",
              "        buttonEl.style.display =\n",
              "          google.colab.kernel.accessAllowed ? 'block' : 'none';\n",
              "\n",
              "        async function convertToInteractive(key) {\n",
              "          const element = document.querySelector('#df-ed3e5fd2-ba84-4916-a473-4dafb9df1df2');\n",
              "          const dataTable =\n",
              "            await google.colab.kernel.invokeFunction('convertToInteractive',\n",
              "                                                     [key], {});\n",
              "          if (!dataTable) return;\n",
              "\n",
              "          const docLinkHtml = 'Like what you see? Visit the ' +\n",
              "            '<a target=\"_blank\" href=https://colab.research.google.com/notebooks/data_table.ipynb>data table notebook</a>'\n",
              "            + ' to learn more about interactive tables.';\n",
              "          element.innerHTML = '';\n",
              "          dataTable['output_type'] = 'display_data';\n",
              "          await google.colab.output.renderOutput(dataTable, element);\n",
              "          const docLink = document.createElement('div');\n",
              "          docLink.innerHTML = docLinkHtml;\n",
              "          element.appendChild(docLink);\n",
              "        }\n",
              "      </script>\n",
              "    </div>\n",
              "  </div>\n",
              "  "
            ]
          },
          "metadata": {},
          "execution_count": 16
        }
      ]
    },
    {
      "cell_type": "code",
      "source": [
        "ConfusionMatrixDisplay.from_predictions(y_true=test_olid_data['labels'].tolist(), y_pred=test_olid_data['pred_sentiment'].tolist(), cmap='PuBuGn', display_labels=['NOT', 'OFF'])"
      ],
      "metadata": {
        "colab": {
          "base_uri": "https://localhost:8080/",
          "height": 428
        },
        "id": "HkPXa1c-UeQU",
        "outputId": "931965fd-9172-4b8e-8e59-7ecb0642d796"
      },
      "execution_count": 17,
      "outputs": [
        {
          "output_type": "execute_result",
          "data": {
            "text/plain": [
              "<sklearn.metrics._plot.confusion_matrix.ConfusionMatrixDisplay at 0x7f3fe97b8e90>"
            ]
          },
          "metadata": {},
          "execution_count": 17
        },
        {
          "output_type": "display_data",
          "data": {
            "text/plain": [
              "<Figure size 504x504 with 2 Axes>"
            ],
            "image/png": "[encoded data removed]"
          },
          "metadata": {
            "needs_background": "light"
          }
        }
      ]
    },
    {
      "cell_type": "markdown",
      "source": [
        "**HASOC DATASET**"
      ],
      "metadata": {
        "id": "_2X8yITAblw8"
      }
    },
    {
      "cell_type": "code",
      "source": [
        "test_olid_data = pd.read_csv(\"/content/drive/MyDrive/SubjectivityMining3/Subjectivity_mining_assignment_3_4_data/olid-test.csv\")\n",
        "\n",
        "train_hasoc_data.reset_index(drop=True, inplace=True)\n",
        "test_olid_data.reset_index(drop=True, inplace=True)"
      ],
      "metadata": {
        "id": "iYxljly9f1gk"
      },
      "execution_count": 4,
      "outputs": []
    },
    {
      "cell_type": "code",
      "source": [
        "X_train_hasoc, X_valid_hasoc, y_train_hasoc, y_valid_hasoc = train_test_split(train_hasoc_data['text'].tolist(),\n",
        "                                                      train_hasoc_data['labels'].tolist(),\n",
        "                                                      test_size=0.2,\n",
        "                                                      stratify=train_hasoc_data['labels'].tolist(),\n",
        "                                                      random_state=0)"
      ],
      "metadata": {
        "id": "fvM9JYW8f1gk"
      },
      "execution_count": 5,
      "outputs": []
    },
    {
      "cell_type": "code",
      "source": [
        "num_words = 50000\n",
        "\n",
        "tokenizer = Tokenizer(num_words=num_words)\n",
        "tokenizer.fit_on_texts(X_train_hasoc)"
      ],
      "metadata": {
        "id": "AVQOUULOf1gl"
      },
      "execution_count": 6,
      "outputs": []
    },
    {
      "cell_type": "code",
      "source": [
        "X_train_hasoc = np.array(tokenizer.texts_to_sequences(X_train_hasoc))\n",
        "X_valid_hasoc = np.array(tokenizer.texts_to_sequences(X_valid_hasoc))\n",
        "X_test = np.array(tokenizer.texts_to_sequences(test_olid_data['text'].tolist()))\n",
        "\n",
        "maxlen = 50\n",
        "X_train_hasoc = pad_sequences(X_train_hasoc, padding='post', maxlen=maxlen)\n",
        "X_valid_hasoc = pad_sequences(X_valid_hasoc, padding='post', maxlen=maxlen)\n",
        "X_test = pad_sequences(X_test, padding='post', maxlen=maxlen)\n",
        "\n",
        "train_hasoc_labels = np.asarray(y_train_hasoc)\n",
        "valid_hasoc_labels = np.asarray(y_valid_hasoc)\n",
        "test_labels = np.asarray(test_olid_data['labels'].tolist())\n",
        "\n",
        "print('Train data len:'+str(len(X_train_hasoc)))\n",
        "print('Class distribution:'+str(Counter(train_hasoc_labels)))\n",
        "\n",
        "print('Validation data len:'+str(len(X_valid_hasoc)))\n",
        "print('Class distribution:'+str(Counter(valid_hasoc_labels)))\n",
        "\n",
        "print('Test data len:'+str(len(X_test)))\n",
        "print('Class distribution:'+str(Counter(test_labels)))\n",
        "\n",
        "train_hasoc_ds = tf.data.Dataset.from_tensor_slices((X_train_hasoc, train_hasoc_labels))\n",
        "valid_hasoc_ds = tf.data.Dataset.from_tensor_slices((X_valid_hasoc, valid_hasoc_labels))\n",
        "test_ds = tf.data.Dataset.from_tensor_slices((X_test, test_labels))"
      ],
      "metadata": {
        "colab": {
          "base_uri": "https://localhost:8080/"
        },
        "outputId": "04edefba-e9c0-4f6f-bfc4-03b379f5ef32",
        "id": "tUHwac63f1gl"
      },
      "execution_count": 7,
      "outputs": [
        {
          "output_type": "stream",
          "name": "stderr",
          "text": [
            "/usr/local/lib/python3.7/dist-packages/ipykernel_launcher.py:1: VisibleDeprecationWarning: Creating an ndarray from ragged nested sequences (which is a list-or-tuple of lists-or-tuples-or ndarrays with different lengths or shapes) is deprecated. If you meant to do this, you must specify 'dtype=object' when creating the ndarray.\n",
            "  \"\"\"Entry point for launching an IPython kernel.\n",
            "/usr/local/lib/python3.7/dist-packages/ipykernel_launcher.py:2: VisibleDeprecationWarning: Creating an ndarray from ragged nested sequences (which is a list-or-tuple of lists-or-tuples-or ndarrays with different lengths or shapes) is deprecated. If you meant to do this, you must specify 'dtype=object' when creating the ndarray.\n",
            "  \n",
            "/usr/local/lib/python3.7/dist-packages/ipykernel_launcher.py:3: VisibleDeprecationWarning: Creating an ndarray from ragged nested sequences (which is a list-or-tuple of lists-or-tuples-or ndarrays with different lengths or shapes) is deprecated. If you meant to do this, you must specify 'dtype=object' when creating the ndarray.\n",
            "  This is separate from the ipykernel package so we can avoid doing imports until\n"
          ]
        },
        {
          "output_type": "stream",
          "name": "stdout",
          "text": [
            "Train data len:4681\n",
            "Class distribution:Counter({0: 2872, 1: 1809})\n",
            "Validation data len:1171\n",
            "Class distribution:Counter({0: 719, 1: 452})\n",
            "Test data len:860\n",
            "Class distribution:Counter({0: 620, 1: 240})\n"
          ]
        }
      ]
    },
    {
      "cell_type": "code",
      "source": [
        "count = 0\n",
        "print('===== TRAIN HASOC DATASET ======')\n",
        "for value, label in train_hasoc_ds:\n",
        "  count += 1\n",
        "  print(value, label)\n",
        "  if count == 1:\n",
        "    break\n",
        "\n",
        "count = 0\n",
        "print('===== VALIDATION DATASET ======')\n",
        "for value, label in valid_hasoc_ds:\n",
        "  count += 1\n",
        "  print(value, label)\n",
        "  if count == 1:\n",
        "    break\n",
        "\n",
        "count = 0\n",
        "print('===== TEST DATASET ======')\n",
        "for value, label in test_ds:\n",
        "  count += 1\n",
        "  print(value, label)\n",
        "  if count == 1:\n",
        "    break"
      ],
      "metadata": {
        "colab": {
          "base_uri": "https://localhost:8080/"
        },
        "outputId": "6ea38a54-e26e-40bc-99a3-8f8dfa83e91d",
        "id": "xZp1MmiQf1gl"
      },
      "execution_count": 8,
      "outputs": [
        {
          "output_type": "stream",
          "name": "stdout",
          "text": [
            "===== TRAIN HASOC DATASET ======\n",
            "tf.Tensor(\n",
            "[  44   31  857 6531 6532   70   45 6533 1159   91  423    8 1072 2264\n",
            " 1960   50 3285   93   39    7 1961  585  858  147  226    5  508  208\n",
            "    8  159 3286 6534 6535 6536 3287 3287 6537 3288    0    0    0    0\n",
            "    0    0    0    0    0    0    0    0], shape=(50,), dtype=int32) tf.Tensor(0, shape=(), dtype=int64)\n",
            "===== VALIDATION DATASET ======\n",
            "tf.Tensor(\n",
            "[ 536  268  684  173  857   94  371   25   32  874   33 4759   35  156\n",
            "  331    0    0    0    0    0    0    0    0    0    0    0    0    0\n",
            "    0    0    0    0    0    0    0    0    0    0    0    0    0    0\n",
            "    0    0    0    0    0    0    0    0], shape=(50,), dtype=int32) tf.Tensor(1, shape=(), dtype=int64)\n",
            "===== TEST DATASET ======\n",
            "tf.Tensor(\n",
            "[ 1358   116   370  6895  6117   408  3708  3437   280   823 14061     6\n",
            "   367  2350 15865  5936  1066     0     0     0     0     0     0     0\n",
            "     0     0     0     0     0     0     0     0     0     0     0     0\n",
            "     0     0     0     0     0     0     0     0     0     0     0     0\n",
            "     0     0], shape=(50,), dtype=int32) tf.Tensor(1, shape=(), dtype=int64)\n"
          ]
        }
      ]
    },
    {
      "cell_type": "code",
      "source": [
        "max_features = 50000\n",
        "embedding_dim = 16\n",
        "sequence_length = maxlen\n",
        "\n",
        "model = tf.keras.Sequential()\n",
        "model.add(tf.keras.layers.Embedding(max_features +1, embedding_dim, input_length=sequence_length, embeddings_regularizer = regularizers.l2(0.005)))\n",
        "model.add(tf.keras.layers.Dropout(0.4))\n",
        "\n",
        "model.add(tf.keras.layers.LSTM(embedding_dim, dropout=0.2, recurrent_dropout=0.2, return_sequences=True, kernel_regularizer=regularizers.l2(0.005), bias_regularizer=regularizers.l2(0.005)))\n",
        "\n",
        "model.add(tf.keras.layers.Flatten())\n",
        "\n",
        "model.add(tf.keras.layers.Dense(512, activation='relu', kernel_regularizer=regularizers.l2(0.001), bias_regularizer=regularizers.l2(0.001)))\n",
        "model.add(tf.keras.layers.Dropout(0.4))\n",
        "\n",
        "model.add(tf.keras.layers.Dense(8, activation='relu', kernel_regularizer=regularizers.l2(0.001), bias_regularizer=regularizers.l2(0.001)))\n",
        "model.add(tf.keras.layers.Dropout(0.4))\n",
        "\n",
        "model.add(tf.keras.layers.Dense(1, activation='sigmoid'))\n",
        "\n",
        "model.summary()\n",
        "model.compile(loss=tf.keras.losses.BinaryCrossentropy(), optimizer=tf.keras.optimizers.Adam(1e-3), metrics=[tf.keras.metrics.BinaryAccuracy()])\n"
      ],
      "metadata": {
        "colab": {
          "base_uri": "https://localhost:8080/"
        },
        "outputId": "e46180d7-77ba-4106-ec3f-2090503c8e08",
        "id": "L5kfcQoZf1gl"
      },
      "execution_count": 9,
      "outputs": [
        {
          "output_type": "stream",
          "name": "stderr",
          "text": [
            "WARNING:tensorflow:Layer lstm will not use cuDNN kernels since it doesn't meet the criteria. It will use a generic GPU kernel as fallback when running on GPU.\n"
          ]
        },
        {
          "output_type": "stream",
          "name": "stdout",
          "text": [
            "Model: \"sequential\"\n",
            "_________________________________________________________________\n",
            " Layer (type)                Output Shape              Param #   \n",
            "=================================================================\n",
            " embedding (Embedding)       (None, 50, 16)            800016    \n",
            "                                                                 \n",
            " dropout (Dropout)           (None, 50, 16)            0         \n",
            "                                                                 \n",
            " lstm (LSTM)                 (None, 50, 16)            2112      \n",
            "                                                                 \n",
            " flatten (Flatten)           (None, 800)               0         \n",
            "                                                                 \n",
            " dense (Dense)               (None, 512)               410112    \n",
            "                                                                 \n",
            " dropout_1 (Dropout)         (None, 512)               0         \n",
            "                                                                 \n",
            " dense_1 (Dense)             (None, 8)                 4104      \n",
            "                                                                 \n",
            " dropout_2 (Dropout)         (None, 8)                 0         \n",
            "                                                                 \n",
            " dense_2 (Dense)             (None, 1)                 9         \n",
            "                                                                 \n",
            "=================================================================\n",
            "Total params: 1,216,353\n",
            "Trainable params: 1,216,353\n",
            "Non-trainable params: 0\n",
            "_________________________________________________________________\n"
          ]
        }
      ]
    },
    {
      "cell_type": "code",
      "source": [
        "epochs = 50\n",
        "\n",
        "history = model.fit(train_hasoc_ds.batch(1024), epochs=epochs, validation_data=valid_hasoc_ds.batch(1024), verbose=1)"
      ],
      "metadata": {
        "colab": {
          "base_uri": "https://localhost:8080/"
        },
        "outputId": "9da4d5fe-1e29-4315-e630-f9ee6218a64d",
        "id": "jNc3dldlf1gl"
      },
      "execution_count": 10,
      "outputs": [
        {
          "output_type": "stream",
          "name": "stdout",
          "text": [
            "Epoch 1/50\n",
            "5/5 [==============================] - 7s 296ms/step - loss: 4.4833 - binary_accuracy: 0.5631 - val_loss: 3.8342 - val_binary_accuracy: 0.6140\n",
            "Epoch 2/50\n",
            "5/5 [==============================] - 1s 225ms/step - loss: 3.5268 - binary_accuracy: 0.6135 - val_loss: 3.0060 - val_binary_accuracy: 0.6140\n",
            "Epoch 3/50\n",
            "5/5 [==============================] - 1s 232ms/step - loss: 2.7730 - binary_accuracy: 0.6127 - val_loss: 2.3738 - val_binary_accuracy: 0.6140\n",
            "Epoch 4/50\n",
            "5/5 [==============================] - 1s 228ms/step - loss: 2.1952 - binary_accuracy: 0.6135 - val_loss: 1.8968 - val_binary_accuracy: 0.6140\n",
            "Epoch 5/50\n",
            "5/5 [==============================] - 1s 208ms/step - loss: 1.7648 - binary_accuracy: 0.6135 - val_loss: 1.5450 - val_binary_accuracy: 0.6140\n",
            "Epoch 6/50\n",
            "5/5 [==============================] - 1s 224ms/step - loss: 1.4566 - binary_accuracy: 0.6135 - val_loss: 1.2962 - val_binary_accuracy: 0.6140\n",
            "Epoch 7/50\n",
            "5/5 [==============================] - 1s 219ms/step - loss: 1.2360 - binary_accuracy: 0.6135 - val_loss: 1.1253 - val_binary_accuracy: 0.6140\n",
            "Epoch 8/50\n",
            "5/5 [==============================] - 1s 231ms/step - loss: 1.0858 - binary_accuracy: 0.6135 - val_loss: 1.0096 - val_binary_accuracy: 0.6140\n",
            "Epoch 9/50\n",
            "5/5 [==============================] - 1s 219ms/step - loss: 0.9876 - binary_accuracy: 0.6135 - val_loss: 0.9336 - val_binary_accuracy: 0.6140\n",
            "Epoch 10/50\n",
            "5/5 [==============================] - 1s 225ms/step - loss: 0.9204 - binary_accuracy: 0.6135 - val_loss: 0.8834 - val_binary_accuracy: 0.6140\n",
            "Epoch 11/50\n",
            "5/5 [==============================] - 1s 233ms/step - loss: 0.8776 - binary_accuracy: 0.6135 - val_loss: 0.8493 - val_binary_accuracy: 0.6140\n",
            "Epoch 12/50\n",
            "5/5 [==============================] - 1s 219ms/step - loss: 0.8457 - binary_accuracy: 0.6135 - val_loss: 0.8274 - val_binary_accuracy: 0.6140\n",
            "Epoch 13/50\n",
            "5/5 [==============================] - 1s 217ms/step - loss: 0.8268 - binary_accuracy: 0.6135 - val_loss: 0.8118 - val_binary_accuracy: 0.6140\n",
            "Epoch 14/50\n",
            "5/5 [==============================] - 1s 211ms/step - loss: 0.8150 - binary_accuracy: 0.6135 - val_loss: 0.8028 - val_binary_accuracy: 0.6140\n",
            "Epoch 15/50\n",
            "5/5 [==============================] - 1s 210ms/step - loss: 0.8024 - binary_accuracy: 0.6135 - val_loss: 0.7896 - val_binary_accuracy: 0.6140\n",
            "Epoch 16/50\n",
            "5/5 [==============================] - 1s 227ms/step - loss: 0.7873 - binary_accuracy: 0.6135 - val_loss: 0.7809 - val_binary_accuracy: 0.6140\n",
            "Epoch 17/50\n",
            "5/5 [==============================] - 1s 228ms/step - loss: 0.7803 - binary_accuracy: 0.6135 - val_loss: 0.7737 - val_binary_accuracy: 0.6140\n",
            "Epoch 18/50\n",
            "5/5 [==============================] - 2s 369ms/step - loss: 0.7636 - binary_accuracy: 0.6135 - val_loss: 0.7613 - val_binary_accuracy: 0.6140\n",
            "Epoch 19/50\n",
            "5/5 [==============================] - 2s 415ms/step - loss: 0.7520 - binary_accuracy: 0.6135 - val_loss: 0.7574 - val_binary_accuracy: 0.6140\n",
            "Epoch 20/50\n",
            "5/5 [==============================] - 3s 547ms/step - loss: 0.7402 - binary_accuracy: 0.6135 - val_loss: 0.7610 - val_binary_accuracy: 0.6140\n",
            "Epoch 21/50\n",
            "5/5 [==============================] - 3s 523ms/step - loss: 0.7251 - binary_accuracy: 0.6135 - val_loss: 0.7607 - val_binary_accuracy: 0.6140\n",
            "Epoch 22/50\n",
            "5/5 [==============================] - 3s 557ms/step - loss: 0.7046 - binary_accuracy: 0.6135 - val_loss: 0.8006 - val_binary_accuracy: 0.6140\n",
            "Epoch 23/50\n",
            "5/5 [==============================] - 2s 300ms/step - loss: 0.6782 - binary_accuracy: 0.6135 - val_loss: 0.8533 - val_binary_accuracy: 0.6140\n",
            "Epoch 24/50\n",
            "5/5 [==============================] - 1s 225ms/step - loss: 0.6574 - binary_accuracy: 0.6144 - val_loss: 1.0012 - val_binary_accuracy: 0.6157\n",
            "Epoch 25/50\n",
            "5/5 [==============================] - 1s 220ms/step - loss: 0.6191 - binary_accuracy: 0.7103 - val_loss: 1.1957 - val_binary_accuracy: 0.6482\n",
            "Epoch 26/50\n",
            "5/5 [==============================] - 1s 210ms/step - loss: 0.6018 - binary_accuracy: 0.7870 - val_loss: 1.0616 - val_binary_accuracy: 0.5978\n",
            "Epoch 27/50\n",
            "5/5 [==============================] - 1s 205ms/step - loss: 0.5973 - binary_accuracy: 0.8210 - val_loss: 0.9185 - val_binary_accuracy: 0.5747\n",
            "Epoch 28/50\n",
            "5/5 [==============================] - 1s 212ms/step - loss: 0.5938 - binary_accuracy: 0.8304 - val_loss: 0.8572 - val_binary_accuracy: 0.6174\n",
            "Epoch 29/50\n",
            "5/5 [==============================] - 1s 230ms/step - loss: 0.5419 - binary_accuracy: 0.8701 - val_loss: 1.1166 - val_binary_accuracy: 0.6371\n",
            "Epoch 30/50\n",
            "5/5 [==============================] - 1s 219ms/step - loss: 0.4861 - binary_accuracy: 0.8966 - val_loss: 1.2711 - val_binary_accuracy: 0.5764\n",
            "Epoch 31/50\n",
            "5/5 [==============================] - 1s 217ms/step - loss: 0.4974 - binary_accuracy: 0.8898 - val_loss: 1.3372 - val_binary_accuracy: 0.6490\n",
            "Epoch 32/50\n",
            "5/5 [==============================] - 1s 222ms/step - loss: 0.4646 - binary_accuracy: 0.9058 - val_loss: 1.1047 - val_binary_accuracy: 0.5978\n",
            "Epoch 33/50\n",
            "5/5 [==============================] - 1s 213ms/step - loss: 0.4287 - binary_accuracy: 0.9237 - val_loss: 1.4636 - val_binary_accuracy: 0.6243\n",
            "Epoch 34/50\n",
            "5/5 [==============================] - 1s 224ms/step - loss: 0.4089 - binary_accuracy: 0.9312 - val_loss: 1.5688 - val_binary_accuracy: 0.6217\n",
            "Epoch 35/50\n",
            "5/5 [==============================] - 1s 213ms/step - loss: 0.4036 - binary_accuracy: 0.9357 - val_loss: 1.3037 - val_binary_accuracy: 0.6055\n",
            "Epoch 36/50\n",
            "5/5 [==============================] - 1s 221ms/step - loss: 0.3882 - binary_accuracy: 0.9395 - val_loss: 1.3059 - val_binary_accuracy: 0.6174\n",
            "Epoch 37/50\n",
            "5/5 [==============================] - 1s 222ms/step - loss: 0.3731 - binary_accuracy: 0.9474 - val_loss: 1.5743 - val_binary_accuracy: 0.6336\n",
            "Epoch 38/50\n",
            "5/5 [==============================] - 1s 232ms/step - loss: 0.3653 - binary_accuracy: 0.9468 - val_loss: 1.5766 - val_binary_accuracy: 0.6157\n",
            "Epoch 39/50\n",
            "5/5 [==============================] - 1s 219ms/step - loss: 0.3543 - binary_accuracy: 0.9519 - val_loss: 1.4405 - val_binary_accuracy: 0.6132\n",
            "Epoch 40/50\n",
            "5/5 [==============================] - 1s 221ms/step - loss: 0.3460 - binary_accuracy: 0.9558 - val_loss: 1.5020 - val_binary_accuracy: 0.6183\n",
            "Epoch 41/50\n",
            "5/5 [==============================] - 1s 231ms/step - loss: 0.3256 - binary_accuracy: 0.9579 - val_loss: 1.7621 - val_binary_accuracy: 0.6174\n",
            "Epoch 42/50\n",
            "5/5 [==============================] - 1s 216ms/step - loss: 0.3466 - binary_accuracy: 0.9515 - val_loss: 1.5947 - val_binary_accuracy: 0.6225\n",
            "Epoch 43/50\n",
            "5/5 [==============================] - 1s 210ms/step - loss: 0.3421 - binary_accuracy: 0.9530 - val_loss: 1.4367 - val_binary_accuracy: 0.6132\n",
            "Epoch 44/50\n",
            "5/5 [==============================] - 1s 228ms/step - loss: 0.3416 - binary_accuracy: 0.9549 - val_loss: 1.6587 - val_binary_accuracy: 0.6354\n",
            "Epoch 45/50\n",
            "5/5 [==============================] - 1s 234ms/step - loss: 0.3425 - binary_accuracy: 0.9551 - val_loss: 1.8373 - val_binary_accuracy: 0.6379\n",
            "Epoch 46/50\n",
            "5/5 [==============================] - 1s 229ms/step - loss: 0.3520 - binary_accuracy: 0.9547 - val_loss: 1.5602 - val_binary_accuracy: 0.6345\n",
            "Epoch 47/50\n",
            "5/5 [==============================] - 1s 217ms/step - loss: 0.3396 - binary_accuracy: 0.9547 - val_loss: 1.4947 - val_binary_accuracy: 0.5935\n",
            "Epoch 48/50\n",
            "5/5 [==============================] - 1s 217ms/step - loss: 0.3441 - binary_accuracy: 0.9539 - val_loss: 1.6232 - val_binary_accuracy: 0.6319\n",
            "Epoch 49/50\n",
            "5/5 [==============================] - 1s 214ms/step - loss: 0.3221 - binary_accuracy: 0.9624 - val_loss: 1.6568 - val_binary_accuracy: 0.6268\n",
            "Epoch 50/50\n",
            "5/5 [==============================] - 1s 220ms/step - loss: 0.3094 - binary_accuracy: 0.9650 - val_loss: 1.7836 - val_binary_accuracy: 0.6166\n"
          ]
        }
      ]
    },
    {
      "cell_type": "code",
      "source": [
        "valid_hasoc_predict = model.predict(X_valid_hasoc)\n",
        "print(valid_hasoc_predict[:10])"
      ],
      "metadata": {
        "colab": {
          "base_uri": "https://localhost:8080/"
        },
        "outputId": "c33b1756-58cf-40e2-cc13-cf8edf3ba4fe",
        "id": "mSautMpCf1gl"
      },
      "execution_count": 11,
      "outputs": [
        {
          "output_type": "stream",
          "name": "stdout",
          "text": [
            "37/37 [==============================] - 1s 15ms/step\n",
            "[[7.5042784e-01]\n",
            " [9.9721032e-01]\n",
            " [1.3593156e-04]\n",
            " [9.5626807e-01]\n",
            " [1.6446353e-05]\n",
            " [6.9010064e-02]\n",
            " [4.2462843e-03]\n",
            " [3.3219138e-01]\n",
            " [2.4679112e-03]\n",
            " [8.7472895e-04]]\n"
          ]
        }
      ]
    },
    {
      "cell_type": "code",
      "source": [
        "X_test = np.array(tokenizer.texts_to_sequences(test_olid_data['text'].tolist()))\n",
        "X_test = pad_sequences(X_test, padding='post', maxlen=maxlen)\n",
        "\n",
        "predictions=model.predict(X_test)"
      ],
      "metadata": {
        "colab": {
          "base_uri": "https://localhost:8080/"
        },
        "outputId": "851d9b8e-0165-4fbc-cca5-d7b13110d943",
        "id": "nI5OI6cBf1gm"
      },
      "execution_count": 12,
      "outputs": [
        {
          "output_type": "stream",
          "name": "stdout",
          "text": [
            " 9/27 [=========>....................] - ETA: 0s"
          ]
        },
        {
          "output_type": "stream",
          "name": "stderr",
          "text": [
            "/usr/local/lib/python3.7/dist-packages/ipykernel_launcher.py:1: VisibleDeprecationWarning: Creating an ndarray from ragged nested sequences (which is a list-or-tuple of lists-or-tuples-or ndarrays with different lengths or shapes) is deprecated. If you meant to do this, you must specify 'dtype=object' when creating the ndarray.\n",
            "  \"\"\"Entry point for launching an IPython kernel.\n"
          ]
        },
        {
          "output_type": "stream",
          "name": "stdout",
          "text": [
            "27/27 [==============================] - 0s 16ms/step\n"
          ]
        }
      ]
    },
    {
      "cell_type": "code",
      "source": [
        "f, (ax1, ax2) = plt.subplots(1, 2, figsize=(15, 5))\n",
        "ax1.scatter(predictions, range(0,len(predictions)), alpha=0.2)\n",
        "ax2=sns.distplot(predictions)"
      ],
      "metadata": {
        "colab": {
          "base_uri": "https://localhost:8080/",
          "height": 375
        },
        "outputId": "62b71d74-4879-4f0f-9420-24c80b779817",
        "id": "4POVeS4Qf1gm"
      },
      "execution_count": 13,
      "outputs": [
        {
          "output_type": "stream",
          "name": "stderr",
          "text": [
            "/usr/local/lib/python3.7/dist-packages/seaborn/distributions.py:2619: FutureWarning: `distplot` is a deprecated function and will be removed in a future version. Please adapt your code to use either `displot` (a figure-level function with similar flexibility) or `histplot` (an axes-level function for histograms).\n",
            "  warnings.warn(msg, FutureWarning)\n"
          ]
        },
        {
          "output_type": "display_data",
          "data": {
            "text/plain": [
              "<Figure size 1080x360 with 2 Axes>"
            ],
            "image/png": "[encoded data removed]"
          },
          "metadata": {
            "needs_background": "light"
          }
        }
      ]
    },
    {
      "cell_type": "code",
      "source": [
        "def plot_roc(name, labels, predictions, **kwargs):\n",
        "  fp, tp, thresholds = sklearn.metrics.roc_curve(labels, predictions)\n",
        "  plt.plot(fp, tp, label=name, linewidth=2, **kwargs)\n",
        "  plt.xlabel(\"False positives Rate\")\n",
        "  plt.ylabel(\"True positives Rate\")\n",
        "  plt.xlim([-0.03, 1.0])\n",
        "  plt.ylim([0.0, 1.03])\n",
        "  plt.grid(True)\n",
        "  thresholdsLength = len(thresholds)\n",
        "  thresholds_every = 1000\n",
        "  colorMap = plt.get_cmap('jet', thresholdsLength)\n",
        "  for i in range(0, thresholdsLength, thresholds_every):\n",
        "    threshold_value_with_max_four_decimals = str(thresholds[i])[:5]\n",
        "    plt.text(fp[i] - 0.03, tp[i] + 0.001, threshold_value_with_max_four_decimals, fontdict={'size': 15})\n",
        "\n",
        "    ax=plt.gca()\n",
        "    ax.set_aspect('equal')\n",
        "\n",
        "mpl.rcParams['figure.figsize'] = (7,7)\n",
        "\n",
        "colors = plt.rcParams['axes.prop_cycle'].by_key()['color']\n",
        "plot_roc(\"Valid Baseline\", valid_hasoc_labels, valid_hasoc_predict, color=colors[0], linestyle=\"--\")\n",
        "plt.legend(loc='lower right')"
      ],
      "metadata": {
        "colab": {
          "base_uri": "https://localhost:8080/",
          "height": 459
        },
        "outputId": "33f6abd4-62cb-4272-c71c-32768981bdb0",
        "id": "yKYVp6NHf1gm"
      },
      "execution_count": 14,
      "outputs": [
        {
          "output_type": "execute_result",
          "data": {
            "text/plain": [
              "<matplotlib.legend.Legend at 0x7f1f2479fb90>"
            ]
          },
          "metadata": {},
          "execution_count": 14
        },
        {
          "output_type": "display_data",
          "data": {
            "text/plain": [
              "<Figure size 504x504 with 1 Axes>"
            ],
            "image/png": "[encoded data removed]"
          },
          "metadata": {
            "needs_background": "light"
          }
        }
      ]
    },
    {
      "cell_type": "code",
      "source": [
        "cutoff=0.4\n",
        "test_olid_data['pred_sentiment'] = predictions\n",
        "test_olid_data['pred_sentiment'] = np.where((test_olid_data.pred_sentiment >= cutoff), 1, test_olid_data.pred_sentiment)\n",
        "test_olid_data['pred_sentiment'] = np.where((test_olid_data.pred_sentiment < cutoff), 0, test_olid_data.pred_sentiment)\n",
        "\n",
        "\n",
        "labels= [0, 1]\n",
        "print(classification_report(test_olid_data['labels'].tolist(), test_olid_data['pred_sentiment'].tolist(), labels=labels))"
      ],
      "metadata": {
        "colab": {
          "base_uri": "https://localhost:8080/"
        },
        "outputId": "2404d75c-ae28-41a0-e40d-1706cbda8737",
        "id": "rh1hP_5Nf1gm"
      },
      "execution_count": 15,
      "outputs": [
        {
          "output_type": "stream",
          "name": "stdout",
          "text": [
            "              precision    recall  f1-score   support\n",
            "\n",
            "           0       0.76      0.63      0.69       620\n",
            "           1       0.33      0.47      0.39       240\n",
            "\n",
            "    accuracy                           0.59       860\n",
            "   macro avg       0.55      0.55      0.54       860\n",
            "weighted avg       0.64      0.59      0.61       860\n",
            "\n"
          ]
        }
      ]
    },
    {
      "cell_type": "code",
      "source": [
        "test_olid_data"
      ],
      "metadata": {
        "colab": {
          "base_uri": "https://localhost:8080/",
          "height": 424
        },
        "outputId": "cd3960bc-29ea-4f95-f7ff-4cbdd546ab5b",
        "id": "ns92QZopf1gm"
      },
      "execution_count": 30,
      "outputs": [
        {
          "output_type": "execute_result",
          "data": {
            "text/plain": [
              "        id                                               text  labels  \\\n",
              "0    15923  #WhoIsQ #WheresTheServer #DumpNike #DECLASFISA...       1   \n",
              "1    27014  #ConstitutionDay is revered by Conservatives, ...       0   \n",
              "2    30530  #FOXNews #NRA #MAGA #POTUS #TRUMP #2ndAmendmen...       0   \n",
              "3    13876  #Watching #Boomer getting the news that she is...       0   \n",
              "4    60133  #NoPasaran: Unity demo to oppose the far-right...       1   \n",
              "..     ...                                                ...     ...   \n",
              "855  73439  #DespicableDems lie again about rifles. Dem Di...       1   \n",
              "856  25657  #MeetTheSpeakers 🙌 @USER will present in our e...       0   \n",
              "857  67018  3 people just unfollowed me for talking about ...       1   \n",
              "858  50665  #WednesdayWisdom Antifa calls the right fascis...       0   \n",
              "859  24583      #Kavanaugh typical #liberals , #Democrats URL       0   \n",
              "\n",
              "     pred_sentiment  \n",
              "0               0.0  \n",
              "1               0.0  \n",
              "2               0.0  \n",
              "3               0.0  \n",
              "4               0.0  \n",
              "..              ...  \n",
              "855             0.0  \n",
              "856             0.0  \n",
              "857             0.0  \n",
              "858             0.0  \n",
              "859             0.0  \n",
              "\n",
              "[860 rows x 4 columns]"
            ],
            "text/html": [
              "\n",
              "  <div id=\"df-2075cffb-a72e-476b-a850-b53b7907a3e9\">\n",
              "    <div class=\"colab-df-container\">\n",
              "      <div>\n",
              "<style scoped>\n",
              "    .dataframe tbody tr th:only-of-type {\n",
              "        vertical-align: middle;\n",
              "    }\n",
              "\n",
              "    .dataframe tbody tr th {\n",
              "        vertical-align: top;\n",
              "    }\n",
              "\n",
              "    .dataframe thead th {\n",
              "        text-align: right;\n",
              "    }\n",
              "</style>\n",
              "<table border=\"1\" class=\"dataframe\">\n",
              "  <thead>\n",
              "    <tr style=\"text-align: right;\">\n",
              "      <th></th>\n",
              "      <th>id</th>\n",
              "      <th>text</th>\n",
              "      <th>labels</th>\n",
              "      <th>pred_sentiment</th>\n",
              "    </tr>\n",
              "  </thead>\n",
              "  <tbody>\n",
              "    <tr>\n",
              "      <th>0</th>\n",
              "      <td>15923</td>\n",
              "      <td>#WhoIsQ #WheresTheServer #DumpNike #DECLASFISA...</td>\n",
              "      <td>1</td>\n",
              "      <td>0.0</td>\n",
              "    </tr>\n",
              "    <tr>\n",
              "      <th>1</th>\n",
              "      <td>27014</td>\n",
              "      <td>#ConstitutionDay is revered by Conservatives, ...</td>\n",
              "      <td>0</td>\n",
              "      <td>0.0</td>\n",
              "    </tr>\n",
              "    <tr>\n",
              "      <th>2</th>\n",
              "      <td>30530</td>\n",
              "      <td>#FOXNews #NRA #MAGA #POTUS #TRUMP #2ndAmendmen...</td>\n",
              "      <td>0</td>\n",
              "      <td>0.0</td>\n",
              "    </tr>\n",
              "    <tr>\n",
              "      <th>3</th>\n",
              "      <td>13876</td>\n",
              "      <td>#Watching #Boomer getting the news that she is...</td>\n",
              "      <td>0</td>\n",
              "      <td>0.0</td>\n",
              "    </tr>\n",
              "    <tr>\n",
              "      <th>4</th>\n",
              "      <td>60133</td>\n",
              "      <td>#NoPasaran: Unity demo to oppose the far-right...</td>\n",
              "      <td>1</td>\n",
              "      <td>0.0</td>\n",
              "    </tr>\n",
              "    <tr>\n",
              "      <th>...</th>\n",
              "      <td>...</td>\n",
              "      <td>...</td>\n",
              "      <td>...</td>\n",
              "      <td>...</td>\n",
              "    </tr>\n",
              "    <tr>\n",
              "      <th>855</th>\n",
              "      <td>73439</td>\n",
              "      <td>#DespicableDems lie again about rifles. Dem Di...</td>\n",
              "      <td>1</td>\n",
              "      <td>0.0</td>\n",
              "    </tr>\n",
              "    <tr>\n",
              "      <th>856</th>\n",
              "      <td>25657</td>\n",
              "      <td>#MeetTheSpeakers 🙌 @USER will present in our e...</td>\n",
              "      <td>0</td>\n",
              "      <td>0.0</td>\n",
              "    </tr>\n",
              "    <tr>\n",
              "      <th>857</th>\n",
              "      <td>67018</td>\n",
              "      <td>3 people just unfollowed me for talking about ...</td>\n",
              "      <td>1</td>\n",
              "      <td>0.0</td>\n",
              "    </tr>\n",
              "    <tr>\n",
              "      <th>858</th>\n",
              "      <td>50665</td>\n",
              "      <td>#WednesdayWisdom Antifa calls the right fascis...</td>\n",
              "      <td>0</td>\n",
              "      <td>0.0</td>\n",
              "    </tr>\n",
              "    <tr>\n",
              "      <th>859</th>\n",
              "      <td>24583</td>\n",
              "      <td>#Kavanaugh typical #liberals , #Democrats URL</td>\n",
              "      <td>0</td>\n",
              "      <td>0.0</td>\n",
              "    </tr>\n",
              "  </tbody>\n",
              "</table>\n",
              "<p>860 rows × 4 columns</p>\n",
              "</div>\n",
              "      <button class=\"colab-df-convert\" onclick=\"convertToInteractive('df-2075cffb-a72e-476b-a850-b53b7907a3e9')\"\n",
              "              title=\"Convert this dataframe to an interactive table.\"\n",
              "              style=\"display:none;\">\n",
              "        \n",
              "  <svg xmlns=\"http://www.w3.org/2000/svg\" height=\"24px\"viewBox=\"0 0 24 24\"\n",
              "       width=\"24px\">\n",
              "    <path d=\"M0 0h24v24H0V0z\" fill=\"none\"/>\n",
              "    <path d=\"M18.56 5.44l.94 2.06.94-2.06 2.06-.94-2.06-.94-.94-2.06-.94 2.06-2.06.94zm-11 1L8.5 8.5l.94-2.06 2.06-.94-2.06-.94L8.5 2.5l-.94 2.06-2.06.94zm10 10l.94 2.06.94-2.06 2.06-.94-2.06-.94-.94-2.06-.94 2.06-2.06.94z\"/><path d=\"M17.41 7.96l-1.37-1.37c-.4-.4-.92-.59-1.43-.59-.52 0-1.04.2-1.43.59L10.3 9.45l-7.72 7.72c-.78.78-.78 2.05 0 2.83L4 21.41c.39.39.9.59 1.41.59.51 0 1.02-.2 1.41-.59l7.78-7.78 2.81-2.81c.8-.78.8-2.07 0-2.86zM5.41 20L4 18.59l7.72-7.72 1.47 1.35L5.41 20z\"/>\n",
              "  </svg>\n",
              "      </button>\n",
              "      \n",
              "  <style>\n",
              "    .colab-df-container {\n",
              "      display:flex;\n",
              "      flex-wrap:wrap;\n",
              "      gap: 12px;\n",
              "    }\n",
              "\n",
              "    .colab-df-convert {\n",
              "      background-color: #E8F0FE;\n",
              "      border: none;\n",
              "      border-radius: 50%;\n",
              "      cursor: pointer;\n",
              "      display: none;\n",
              "      fill: #1967D2;\n",
              "      height: 32px;\n",
              "      padding: 0 0 0 0;\n",
              "      width: 32px;\n",
              "    }\n",
              "\n",
              "    .colab-df-convert:hover {\n",
              "      background-color: #E2EBFA;\n",
              "      box-shadow: 0px 1px 2px rgba(60, 64, 67, 0.3), 0px 1px 3px 1px rgba(60, 64, 67, 0.15);\n",
              "      fill: #174EA6;\n",
              "    }\n",
              "\n",
              "    [theme=dark] .colab-df-convert {\n",
              "      background-color: #3B4455;\n",
              "      fill: #D2E3FC;\n",
              "    }\n",
              "\n",
              "    [theme=dark] .colab-df-convert:hover {\n",
              "      background-color: #434B5C;\n",
              "      box-shadow: 0px 1px 3px 1px rgba(0, 0, 0, 0.15);\n",
              "      filter: drop-shadow(0px 1px 2px rgba(0, 0, 0, 0.3));\n",
              "      fill: #FFFFFF;\n",
              "    }\n",
              "  </style>\n",
              "\n",
              "      <script>\n",
              "        const buttonEl =\n",
              "          document.querySelector('#df-2075cffb-a72e-476b-a850-b53b7907a3e9 button.colab-df-convert');\n",
              "        buttonEl.style.display =\n",
              "          google.colab.kernel.accessAllowed ? 'block' : 'none';\n",
              "\n",
              "        async function convertToInteractive(key) {\n",
              "          const element = document.querySelector('#df-2075cffb-a72e-476b-a850-b53b7907a3e9');\n",
              "          const dataTable =\n",
              "            await google.colab.kernel.invokeFunction('convertToInteractive',\n",
              "                                                     [key], {});\n",
              "          if (!dataTable) return;\n",
              "\n",
              "          const docLinkHtml = 'Like what you see? Visit the ' +\n",
              "            '<a target=\"_blank\" href=https://colab.research.google.com/notebooks/data_table.ipynb>data table notebook</a>'\n",
              "            + ' to learn more about interactive tables.';\n",
              "          element.innerHTML = '';\n",
              "          dataTable['output_type'] = 'display_data';\n",
              "          await google.colab.output.renderOutput(dataTable, element);\n",
              "          const docLink = document.createElement('div');\n",
              "          docLink.innerHTML = docLinkHtml;\n",
              "          element.appendChild(docLink);\n",
              "        }\n",
              "      </script>\n",
              "    </div>\n",
              "  </div>\n",
              "  "
            ]
          },
          "metadata": {},
          "execution_count": 30
        }
      ]
    },
    {
      "cell_type": "code",
      "source": [
        "ConfusionMatrixDisplay.from_predictions(y_true=test_olid_data['labels'].tolist(), y_pred=test_olid_data['pred_sentiment'].tolist(), cmap='PuBuGn', display_labels=['NOT', 'OFF'])"
      ],
      "metadata": {
        "colab": {
          "base_uri": "https://localhost:8080/",
          "height": 428
        },
        "id": "RkOWGHlLVWzK",
        "outputId": "7ef1113f-74f7-4fda-d299-ac9ca7700c5f"
      },
      "execution_count": 16,
      "outputs": [
        {
          "output_type": "execute_result",
          "data": {
            "text/plain": [
              "<sklearn.metrics._plot.confusion_matrix.ConfusionMatrixDisplay at 0x7f1f3c222a50>"
            ]
          },
          "metadata": {},
          "execution_count": 16
        },
        {
          "output_type": "display_data",
          "data": {
            "text/plain": [
              "<Figure size 504x504 with 2 Axes>"
            ],
            "image/png": "[encoded data removed]"
          },
          "metadata": {
            "needs_background": "light"
          }
        }
      ]
    }
  ]
}